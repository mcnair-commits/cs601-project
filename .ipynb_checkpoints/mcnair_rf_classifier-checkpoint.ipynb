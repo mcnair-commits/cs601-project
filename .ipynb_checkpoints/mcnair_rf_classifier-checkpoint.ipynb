{
 "cells": [
  {
   "cell_type": "markdown",
   "id": "8dbff71d-1ed4-41e8-842e-430cd81f1c20",
   "metadata": {},
   "source": [
    "Kelton McNair - 992018683\n",
    "CS 601 - Machine Learning\n",
    "Spring Semester Project 2025\n",
    "Dr. Afshar\n",
    "Random Forest Classifier\n",
    "Dataset: Adult Or letter-recognition?"
   ]
  },
  {
   "cell_type": "code",
   "execution_count": 8,
   "id": "93a9f424-5098-4214-beb8-afe37b923c33",
   "metadata": {},
   "outputs": [],
   "source": [
    "# pip install ucimlrepo\n",
    "\n",
    "# from ucimlrepo import fetch_ucirepo \n",
    "  \n",
    "# # fetch dataset \n",
    "# adult = fetch_ucirepo(id=2) \n",
    "  \n",
    "# # data (as pandas dataframes) \n",
    "# X = adult.data.features \n",
    "# y = adult.data.targets \n",
    "  \n",
    "# # metadata \n",
    "# print(adult.metadata) \n",
    "  \n",
    "# # variable information \n",
    "# print(adult.variables) \n",
    "\n"
   ]
  },
  {
   "cell_type": "code",
   "execution_count": 9,
   "id": "ff9d4bab-68b9-42f7-b2b1-040f36af3198",
   "metadata": {},
   "outputs": [],
   "source": [
    "# from ucimlrepo import fetch_ucirepo \n",
    "  \n",
    "# # fetch dataset \n",
    "# letter_recognition = fetch_ucirepo(id=59) \n",
    "  \n",
    "# # data (as pandas dataframes) \n",
    "# X = letter_recognition.data.features \n",
    "# y = letter_recognition.data.targets \n",
    "  \n",
    "# # metadata \n",
    "# print(letter_recognition.metadata) \n",
    "  \n",
    "# # variable information \n",
    "# print(letter_recognition.variables) \n"
   ]
  },
  {
   "cell_type": "code",
   "execution_count": 10,
   "id": "18976bf9-2f7e-4092-9cb1-1cc1de604d4f",
   "metadata": {},
   "outputs": [],
   "source": [
    "import numpy as np\n",
    "import pandas as pd\n",
    "\n",
    "#not sure what all I need for comparative evaluation sklearn model yet\n",
    "from sklearn import tree\n",
    "from sklearn.tree import DecisionTreeClassifier\n",
    "from sklearn.ensemble import RandomForestClassifier\n",
    "from sklearn.model_selection import train_test_split\n",
    "from numpy.random import default_rng"
   ]
  },
  {
   "cell_type": "code",
   "execution_count": 7,
   "id": "2b1a78a4-4025-4938-8d47-95ef80c82113",
   "metadata": {},
   "outputs": [
    {
     "ename": "NameError",
     "evalue": "name 'adult' is not defined",
     "output_type": "error",
     "traceback": [
      "\u001b[0;31m---------------------------------------------------------------------------\u001b[0m",
      "\u001b[0;31mNameError\u001b[0m                                 Traceback (most recent call last)",
      "Cell \u001b[0;32mIn[7], line 1\u001b[0m\n\u001b[0;32m----> 1\u001b[0m data \u001b[38;5;241m=\u001b[39m pd\u001b[38;5;241m.\u001b[39mread_csv(\u001b[43madult\u001b[49m\u001b[38;5;241m/\u001b[39madult\u001b[38;5;241m.\u001b[39mdata)\n",
      "\u001b[0;31mNameError\u001b[0m: name 'adult' is not defined"
     ]
    }
   ],
   "source": [
    "data = pd.read_csv(\"adult/adult.data\")\n"
   ]
  },
  {
   "cell_type": "code",
   "execution_count": null,
   "id": "718212c2-6ad6-4102-bb68-213d409c2d66",
   "metadata": {},
   "outputs": [],
   "source": []
  }
 ],
 "metadata": {
  "kernelspec": {
   "display_name": "Python 3 (ipykernel)",
   "language": "python",
   "name": "python3"
  },
  "language_info": {
   "codemirror_mode": {
    "name": "ipython",
    "version": 3
   },
   "file_extension": ".py",
   "mimetype": "text/x-python",
   "name": "python",
   "nbconvert_exporter": "python",
   "pygments_lexer": "ipython3",
   "version": "3.10.16"
  }
 },
 "nbformat": 4,
 "nbformat_minor": 5
}
